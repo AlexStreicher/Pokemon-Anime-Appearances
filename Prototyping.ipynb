{
 "cells": [
  {
   "cell_type": "code",
   "execution_count": 425,
   "id": "d1dd5073",
   "metadata": {},
   "outputs": [],
   "source": [
    "from bs4 import BeautifulSoup\n",
    "from tqdm import tqdm\n",
    "import requests\n",
    "import csv\n",
    "import re\n",
    "\n",
    "def getAndParseURL(url):\n",
    "    result = requests.get(url)\n",
    "    soup = BeautifulSoup(result.text, 'html.parser')\n",
    "    return(soup)\n",
    "\n",
    "def get_appearances(pokemon_soup):\n",
    "    names = [table_name.get('href')[1:] for table_name in pokemon_soup.find('p').findAll('a')]\n",
    "    regex = re.compile('key.*')\n",
    "    appearances,i = {},0\n",
    "    for table in pokemon_soup.findAll(\"table\"):\n",
    "        lines = table.findAll(\"td\",{\"class\":regex})\n",
    "        if len(lines) > 0:\n",
    "            appearances[names[i]] = [line.text for line in lines]        \n",
    "            i += 1\n",
    "    return appearances\n",
    "\n",
    "def dexnum(base_url):\n",
    "    bulbasoup = getAndParseURL(base_url+'001.shtml')\n",
    "    tuples=re.findall(r'\\n([0-9]{3})\\ +(\\w+.*\\w+)',bulbasoup.text)\n",
    "    return {int(num_str):name for num_str,name in tuples}\n",
    "        "
   ]
  },
  {
   "cell_type": "code",
   "execution_count": 426,
   "id": "1c62b665",
   "metadata": {},
   "outputs": [
    {
     "name": "stderr",
     "output_type": "stream",
     "text": [
      "100%|████████████████████████████████████████████| 898/898 [05:25<00:00,  2.76it/s]\n"
     ]
    }
   ],
   "source": [
    "base = 'https://www.serebii.net/anime/dex/'\n",
    "dex = dexnum(base)\n",
    "AppDict = {poke:get_appearances(getAndParseURL(f'{base}{num:03}.shtml')) for num,poke in tqdm(dex.items())}\n"
   ]
  },
  {
   "cell_type": "code",
   "execution_count": 436,
   "id": "f36a579b",
   "metadata": {},
   "outputs": [],
   "source": [
    "import pandas as pd\n",
    "poke = pd.DataFrame(AppDict)\n",
    "poke.to_csv('temp')\n",
    "poke = pd.read_csv('temp',index_col=0)"
   ]
  },
  {
   "cell_type": "code",
   "execution_count": 471,
   "id": "044dbc1b",
   "metadata": {},
   "outputs": [
    {
     "name": "stderr",
     "output_type": "stream",
     "text": [
      "100%|█████████████████████████████████████████| 898/898 [00:00<00:00, 75532.13it/s]\n"
     ]
    }
   ],
   "source": [
    "from collections import defaultdict\n",
    "d = defaultdict(list)\n",
    "\n",
    "for poke,group in tqdm(AppDict.items()):\n",
    "    for title,eps in group.items():\n",
    "        for ep in eps:\n",
    "            d[ep].append((poke,title))"
   ]
  },
  {
   "cell_type": "code",
   "execution_count": 476,
   "id": "2f9f0fe8",
   "metadata": {},
   "outputs": [],
   "source": [
    "eps = pd.Series(d)\n",
    "exploded = eps.to_frame().explode(0)\n",
    "episodes = pd.DataFrame(data=exploded[0].to_list(),index=exploded.index,columns=['Pokemon','sub'])\n",
    "episodes.to_csv('epslist')"
   ]
  },
  {
   "cell_type": "code",
   "execution_count": 504,
   "id": "ffc919a9",
   "metadata": {},
   "outputs": [],
   "source": [
    "episodes = pd.read_csv('epslist',index_col=0)"
   ]
  },
  {
   "cell_type": "code",
   "execution_count": 511,
   "id": "26cb0d08",
   "metadata": {},
   "outputs": [
    {
     "data": {
      "text/plain": [
       "<AxesSubplot:ylabel='Count'>"
      ]
     },
     "execution_count": 511,
     "metadata": {},
     "output_type": "execute_result"
    },
    {
     "data": {
      "image/png": "[encoded data removed]",
      "text/plain": [
       "<Figure size 432x288 with 1 Axes>"
      ]
     },
     "metadata": {
      "needs_background": "light"
     },
     "output_type": "display_data"
    }
   ],
   "source": [
    "import seaborn as sns\n",
    "sns.histplot(episodes.index.value_counts())"
   ]
  },
  {
   "cell_type": "code",
   "execution_count": 531,
   "id": "7910e46d",
   "metadata": {},
   "outputs": [
    {
     "data": {
      "text/plain": [
       "Index(['1', '10', '100', '1000', '1001', '1002', '1003', '1004', '1005',\n",
       "       '1006', '1007', '1008', '1009', '101', '1010', '1011', '1012', '1013',\n",
       "       '1014', '1015', '1016', '1017', '1018', '1019', '102', '1020', '1021',\n",
       "       '1022', '1023', '1024', '1025', '1026', '1027', '1028', '1029', '103',\n",
       "       '1030', '1031', '1032', '1033'],\n",
       "      dtype='object')"
      ]
     },
     "execution_count": 531,
     "metadata": {},
     "output_type": "execute_result"
    }
   ],
   "source": [
    "episodes.index.unique().sort_values()[:40]"
   ]
  },
  {
   "cell_type": "code",
   "execution_count": 541,
   "id": "ac851d10",
   "metadata": {},
   "outputs": [
    {
     "data": {
      "text/plain": [
       "wild                     6213\n",
       "special/othertrainers    4434\n",
       "ash                      4062\n",
       "jessie                   1261\n",
       "rocket                   1128\n",
       "goh                       782\n",
       "james                     674\n",
       "brock                     599\n",
       "misty                     554\n",
       "dawn                      518\n",
       "clemont                   350\n",
       "may                       329\n",
       "iris                      260\n",
       "kiawe                     222\n",
       "sophocles                 203\n",
       "nursejoy                  187\n",
       "lana                      171\n",
       "serena                    169\n",
       "mallow                    134\n",
       "lillie                    129\n",
       "cilan                     124\n",
       "paul                      116\n",
       "pokeride                  110\n",
       "gladion                   102\n",
       "mewtwo                     75\n",
       "samsonoak                  60\n",
       "chloe                      58\n",
       "officerjenny               52\n",
       "lusamine                   50\n",
       "giovanni                   46\n",
       "zoey                       42\n",
       "gary                       41\n",
       "professorkukui             41\n",
       "sawyer                     39\n",
       "virgil                     38\n",
       "plasmagrunt                37\n",
       "alain                      37\n",
       "red                        35\n",
       "drew                       35\n",
       "tracey                     35\n",
       "trip                       31\n",
       "korrina                    30\n",
       "professorsycamore          30\n",
       "alexa                      29\n",
       "cynthia                    27\n",
       "bea                        27\n",
       "barry                      26\n",
       "richie                     25\n",
       "dr.yung                    25\n",
       "teamskullgrunts            25\n",
       "morrison                   24\n",
       "harley                     24\n",
       "nando                      24\n",
       "johanna                    23\n",
       "roark                      22\n",
       "shauna                     22\n",
       "cameron                    22\n",
       "ursala                     21\n",
       "norman                     21\n",
       "tyson                      21\n",
       "Name: sub, dtype: int64"
      ]
     },
     "execution_count": 541,
     "metadata": {},
     "output_type": "execute_result"
    }
   ],
   "source": [
    "episodes['sub'].value_counts()[:60]"
   ]
  },
  {
   "cell_type": "code",
   "execution_count": 546,
   "id": "1107a76a",
   "metadata": {},
   "outputs": [
    {
     "data": {
      "text/plain": [
       "Index(['10', '12', '13', '15', '16', '17', '18', '19', '20', '22',\n",
       "       ...\n",
       "       'S26', 'S36', 'G9', 'G12', 'G11', 'G14', 'G13', 'G15', 'G16', 'G17'],\n",
       "      dtype='object', length=1292)"
      ]
     },
     "execution_count": 546,
     "metadata": {},
     "output_type": "execute_result"
    }
   ],
   "source": [
    "episodes.index.unique()"
   ]
  },
  {
   "cell_type": "code",
   "execution_count": null,
   "id": "218c2665",
   "metadata": {},
   "outputs": [],
   "source": []
  }
 ],
 "metadata": {
  "kernelspec": {
   "display_name": "Python 3 (ipykernel)",
   "language": "python",
   "name": "python3"
  },
  "language_info": {
   "codemirror_mode": {
    "name": "ipython",
    "version": 3
   },
   "file_extension": ".py",
   "mimetype": "text/x-python",
   "name": "python",
   "nbconvert_exporter": "python",
   "pygments_lexer": "ipython3",
   "version": "3.10.2"
  }
 },
 "nbformat": 4,
 "nbformat_minor": 5
}
