{
 "cells": [
  {
   "cell_type": "code",
   "execution_count": 4,
   "id": "d1dd5073",
   "metadata": {},
   "outputs": [],
   "source": [
    "from bs4 import BeautifulSoup\n",
    "from tqdm import tqdm\n",
    "import requests\n",
    "import csv\n",
    "import re\n",
    "import pandas as pd\n",
    "\n",
    "def getAndParseURL(url):\n",
    "    result = requests.get(url)\n",
    "    soup = BeautifulSoup(result.text, 'html.parser')\n",
    "    return(soup)\n",
    "\n",
    "def get_appearances(pokemon_soup):\n",
    "    names = [table_name.get('href')[1:] for table_name in pokemon_soup.find('p').findAll('a')]\n",
    "    regex = re.compile('key.*')\n",
    "    appearances,i = {},0\n",
    "    for table in pokemon_soup.findAll(\"table\"):\n",
    "        lines = table.findAll(\"td\",{\"class\":regex})\n",
    "        if len(lines) > 0:\n",
    "            appearances[names[i]] = [line.text for line in lines]        \n",
    "            i += 1\n",
    "    return appearances\n",
    "\n",
    "def dexnum(base_url):\n",
    "    bulbasoup = getAndParseURL(base_url+'001.shtml')\n",
    "    tuples=re.findall(r'\\n([0-9]{3})\\ +(\\w+.*\\w+)',bulbasoup.text)\n",
    "    return {int(num_str):name for num_str,name in tuples}\n",
    "        "
   ]
  },
  {
   "cell_type": "code",
   "execution_count": 426,
   "id": "1c62b665",
   "metadata": {},
   "outputs": [
    {
     "name": "stderr",
     "output_type": "stream",
     "text": [
      "100%|████████████████████████████████████████████| 898/898 [05:25<00:00,  2.76it/s]\n"
     ]
    }
   ],
   "source": [
    "base = 'https://www.serebii.net/anime/dex/'\n",
    "dex = dexnum(base)\n",
    "AppDict = {poke:get_appearances(getAndParseURL(f'{base}{num:03}.shtml')) for num,poke in tqdm(dex.items())}\n"
   ]
  },
  {
   "cell_type": "code",
   "execution_count": 436,
   "id": "f36a579b",
   "metadata": {},
   "outputs": [],
   "source": [
    "poke = pd.DataFrame(AppDict)\n",
    "poke.to_csv('temp')\n",
    "poke = pd.read_csv('temp',index_col=0)"
   ]
  },
  {
   "cell_type": "code",
   "execution_count": 471,
   "id": "044dbc1b",
   "metadata": {},
   "outputs": [
    {
     "name": "stderr",
     "output_type": "stream",
     "text": [
      "100%|█████████████████████████████████████████| 898/898 [00:00<00:00, 75532.13it/s]\n"
     ]
    }
   ],
   "source": [
    "from collections import defaultdict\n",
    "d = defaultdict(list)\n",
    "\n",
    "for poke,group in tqdm(AppDict.items()):\n",
    "    for title,eps in group.items():\n",
    "        for ep in eps:\n",
    "            d[ep].append((poke,title))"
   ]
  },
  {
   "cell_type": "code",
   "execution_count": 476,
   "id": "2f9f0fe8",
   "metadata": {},
   "outputs": [],
   "source": [
    "eps = pd.Series(d)\n",
    "exploded = eps.to_frame().explode(0)\n",
    "episodes = pd.DataFrame(data=exploded[0].to_list(),index=exploded.index,columns=['Pokemon','sub'])\n",
    "episodes.to_csv('epslist')"
   ]
  },
  {
   "cell_type": "code",
   "execution_count": 6,
   "id": "ffc919a9",
   "metadata": {},
   "outputs": [],
   "source": [
    "eps = pd.read_csv('epslist',index_col=0)"
   ]
  },
  {
   "cell_type": "code",
   "execution_count": 274,
   "id": "b4d8215b",
   "metadata": {},
   "outputs": [],
   "source": [
    "wild = eps[eps['sub']=='wild']\n",
    "anime = eps[eps.index.str.isdigit()]\n",
    "anime.index = pd.to_numeric(anime.index)\n",
    "anime = anime.sort_index()"
   ]
  },
  {
   "cell_type": "code",
   "execution_count": 317,
   "id": "3b41727d",
   "metadata": {},
   "outputs": [],
   "source": [
    "extanime = anime[anime['sub'].isin(['wild','special/othertrainers'])].copy()\n",
    "extanime['First'] = extanime.groupby('Pokemon').transform(lambda x:x.index.min())\n",
    "extanime.index.name = 'episode'\n",
    "extanime = extanime.reset_index()\n",
    "extanime = extanime.infer_objects()\n",
    "extanime['diffs']=extanime.groupby('Pokemon')['episode'].diff().fillna(0).astype(int)\n",
    "ea=extanime"
   ]
  },
  {
   "cell_type": "code",
   "execution_count": 318,
   "id": "9f3db909",
   "metadata": {},
   "outputs": [],
   "source": [
    "# For the different generations of pokemon [G1,G2,...]\n",
    "sn_fn = [118,276,468,659,801,941,1087]"
   ]
  },
  {
   "cell_type": "code",
   "execution_count": 319,
   "id": "4b2f35e1",
   "metadata": {},
   "outputs": [],
   "source": [
    "g1 = extanime[extanime.episode<sn_fn[0]]"
   ]
  },
  {
   "cell_type": "code",
   "execution_count": 320,
   "id": "4668522b",
   "metadata": {},
   "outputs": [
    {
     "data": {
      "text/plain": [
       "<AxesSubplot:xlabel='diffs', ylabel='Count'>"
      ]
     },
     "execution_count": 320,
     "metadata": {},
     "output_type": "execute_result"
    },
    {
     "data": {
      "image/png": "[encoded data removed]",
      "text/plain": [
       "<Figure size 432x288 with 1 Axes>"
      ]
     },
     "metadata": {
      "needs_background": "light"
     },
     "output_type": "display_data"
    }
   ],
   "source": [
    "sns.histplot(g1.diffs[(g1.diffs>2)&(g1.diffs<50)])"
   ]
  },
  {
   "cell_type": "code",
   "execution_count": 379,
   "id": "8d93492f",
   "metadata": {},
   "outputs": [
    {
     "name": "stdout",
     "output_type": "stream",
     "text": [
      "      episode    Pokemon                    sub  First  diffs\n",
      "4008      802    Slowbro                   wild     17    540\n",
      "4009      802     Pidgey                   wild      1    158\n",
      "4010      802   Slowpoke                   wild     17    152\n",
      "4011      802   Magikarp                   wild      1    183\n",
      "4012      802   Gyarados                   wild      1    196\n",
      "...       ...        ...                    ...    ...    ...\n",
      "5123      940    Psyduck                   wild    124     22\n",
      "5124      940    Machamp  special/othertrainers     29     86\n",
      "5125      940     Marill                   wild    148     10\n",
      "5126      940  Zigzagoon                   wild    274     16\n",
      "5127      940    Linoone                   wild    432     69\n",
      "\n",
      "[708 rows x 5 columns]\n",
      "      episode     Pokemon                    sub  First  diffs\n",
      "4144      811     Furfrou  special/othertrainers    804      6\n",
      "4166      813  Helioptile                   wild    805      8\n",
      "4172      814     Pangoro                   wild    804     10\n",
      "4175      815      Spewpa                   wild    804     11\n",
      "4179      815  Scatterbug                   wild    804     11\n",
      "...       ...         ...                    ...    ...    ...\n",
      "5094      935     Furfrou  special/othertrainers    804      3\n",
      "5095      935  Scatterbug                   wild    804     11\n",
      "5104      938  Helioptile  special/othertrainers    805     18\n",
      "5118      940   Diggersby  special/othertrainers    842     49\n",
      "5120      940   Pachirisu  special/othertrainers    838     12\n",
      "\n",
      "[139 rows x 5 columns]\n"
     ]
    }
   ],
   "source": [
    "gen = 6\n",
    "premier = ea[((ea.First<sn_fn[gen-1])&(ea.First>sn_fn[gen-2]))&((ea.episode<sn_fn[gen-1])&(ea.episode>sn_fn[gen-2]))]\n",
    "previous = ea[(ea.First<sn_fn[gen-2])&((ea.episode<sn_fn[gen-1])&(ea.episode>sn_fn[gen-2]))]\n",
    "print(previous[previous.diffs>2])\n",
    "print(premier[premier.diffs>2])"
   ]
  }
 ],
 "metadata": {
  "kernelspec": {
   "display_name": "Python 3 (ipykernel)",
   "language": "python",
   "name": "python3"
  },
  "language_info": {
   "codemirror_mode": {
    "name": "ipython",
    "version": 3
   },
   "file_extension": ".py",
   "mimetype": "text/x-python",
   "name": "python",
   "nbconvert_exporter": "python",
   "pygments_lexer": "ipython3",
   "version": "3.10.2"
  }
 },
 "nbformat": 4,
 "nbformat_minor": 5
}
